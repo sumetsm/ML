{
 "cells": [
  {
   "cell_type": "code",
   "execution_count": 97,
   "metadata": {},
   "outputs": [],
   "source": [
    "import pandas as pd\n",
    "import seaborn as sns\n",
    "import matplotlib.pyplot as plt\n",
    "import numpy as np\n",
    "from sklearn import preprocessing\n",
    "from sklearn.preprocessing import MinMaxScaler , StandardScaler\n"
   ]
  },
  {
   "cell_type": "code",
   "execution_count": 98,
   "metadata": {},
   "outputs": [
    {
     "name": "stdout",
     "output_type": "stream",
     "text": [
      "<class 'pandas.core.frame.DataFrame'>\n",
      "RangeIndex: 7043 entries, 0 to 7042\n",
      "Data columns (total 9 columns):\n",
      " #   Column            Non-Null Count  Dtype  \n",
      "---  ------            --------------  -----  \n",
      " 0   gender            7043 non-null   object \n",
      " 1   SeniorCitizen     7043 non-null   int64  \n",
      " 2   tenure            7043 non-null   int64  \n",
      " 3   ServiceCount      7043 non-null   int64  \n",
      " 4   Contract          7043 non-null   object \n",
      " 5   PaperlessBilling  7043 non-null   object \n",
      " 6   MonthlyCharges    7043 non-null   float64\n",
      " 7   TotalCharges      7016 non-null   float64\n",
      " 8   Churn             7043 non-null   object \n",
      "dtypes: float64(2), int64(3), object(4)\n",
      "memory usage: 495.3+ KB\n"
     ]
    }
   ],
   "source": [
    "df = pd.read_csv(\"https://raw.githubusercontent.com/srivatsan88/YouTubeLI/master/dataset/churn_data_st.csv\",sep=\",\")\n",
    "df = df.drop(columns='customerID')\n",
    "df.info()"
   ]
  },
  {
   "cell_type": "code",
   "execution_count": 99,
   "metadata": {},
   "outputs": [
    {
     "name": "stdout",
     "output_type": "stream",
     "text": [
      "<class 'pandas.core.frame.DataFrame'>\n",
      "RangeIndex: 7043 entries, 0 to 7042\n",
      "Data columns (total 9 columns):\n",
      " #   Column            Non-Null Count  Dtype  \n",
      "---  ------            --------------  -----  \n",
      " 0   gender            7043 non-null   object \n",
      " 1   SeniorCitizen     7043 non-null   int64  \n",
      " 2   tenure            7043 non-null   int64  \n",
      " 3   ServiceCount      7043 non-null   int64  \n",
      " 4   Contract          7043 non-null   object \n",
      " 5   PaperlessBilling  7043 non-null   object \n",
      " 6   MonthlyCharges    7043 non-null   float64\n",
      " 7   TotalCharges      7043 non-null   float64\n",
      " 8   Churn             7043 non-null   object \n",
      "dtypes: float64(2), int64(3), object(4)\n",
      "memory usage: 495.3+ KB\n"
     ]
    }
   ],
   "source": [
    "df = df.fillna(df['TotalCharges'].mean())\n",
    "df.info()"
   ]
  },
  {
   "cell_type": "markdown",
   "metadata": {},
   "source": [
    "# 2.2 Remove variables with High Variable Correlation"
   ]
  },
  {
   "cell_type": "code",
   "execution_count": 100,
   "metadata": {},
   "outputs": [
    {
     "data": {
      "text/html": [
       "<div>\n",
       "<style scoped>\n",
       "    .dataframe tbody tr th:only-of-type {\n",
       "        vertical-align: middle;\n",
       "    }\n",
       "\n",
       "    .dataframe tbody tr th {\n",
       "        vertical-align: top;\n",
       "    }\n",
       "\n",
       "    .dataframe thead th {\n",
       "        text-align: right;\n",
       "    }\n",
       "</style>\n",
       "<table border=\"1\" class=\"dataframe\">\n",
       "  <thead>\n",
       "    <tr style=\"text-align: right;\">\n",
       "      <th></th>\n",
       "      <th>tenure</th>\n",
       "      <th>ServiceCount</th>\n",
       "      <th>MonthlyCharges</th>\n",
       "      <th>TotalCharges</th>\n",
       "    </tr>\n",
       "  </thead>\n",
       "  <tbody>\n",
       "    <tr>\n",
       "      <th>0</th>\n",
       "      <td>1</td>\n",
       "      <td>2</td>\n",
       "      <td>29.85</td>\n",
       "      <td>29.85</td>\n",
       "    </tr>\n",
       "    <tr>\n",
       "      <th>1</th>\n",
       "      <td>34</td>\n",
       "      <td>4</td>\n",
       "      <td>56.95</td>\n",
       "      <td>1889.50</td>\n",
       "    </tr>\n",
       "    <tr>\n",
       "      <th>2</th>\n",
       "      <td>2</td>\n",
       "      <td>4</td>\n",
       "      <td>53.85</td>\n",
       "      <td>108.15</td>\n",
       "    </tr>\n",
       "    <tr>\n",
       "      <th>3</th>\n",
       "      <td>45</td>\n",
       "      <td>4</td>\n",
       "      <td>42.30</td>\n",
       "      <td>1840.75</td>\n",
       "    </tr>\n",
       "    <tr>\n",
       "      <th>4</th>\n",
       "      <td>2</td>\n",
       "      <td>2</td>\n",
       "      <td>70.70</td>\n",
       "      <td>151.65</td>\n",
       "    </tr>\n",
       "    <tr>\n",
       "      <th>...</th>\n",
       "      <td>...</td>\n",
       "      <td>...</td>\n",
       "      <td>...</td>\n",
       "      <td>...</td>\n",
       "    </tr>\n",
       "    <tr>\n",
       "      <th>7038</th>\n",
       "      <td>24</td>\n",
       "      <td>8</td>\n",
       "      <td>84.80</td>\n",
       "      <td>1990.50</td>\n",
       "    </tr>\n",
       "    <tr>\n",
       "      <th>7039</th>\n",
       "      <td>72</td>\n",
       "      <td>7</td>\n",
       "      <td>103.20</td>\n",
       "      <td>7362.90</td>\n",
       "    </tr>\n",
       "    <tr>\n",
       "      <th>7040</th>\n",
       "      <td>11</td>\n",
       "      <td>2</td>\n",
       "      <td>29.60</td>\n",
       "      <td>346.45</td>\n",
       "    </tr>\n",
       "    <tr>\n",
       "      <th>7041</th>\n",
       "      <td>4</td>\n",
       "      <td>3</td>\n",
       "      <td>74.40</td>\n",
       "      <td>306.60</td>\n",
       "    </tr>\n",
       "    <tr>\n",
       "      <th>7042</th>\n",
       "      <td>66</td>\n",
       "      <td>7</td>\n",
       "      <td>105.65</td>\n",
       "      <td>6844.50</td>\n",
       "    </tr>\n",
       "  </tbody>\n",
       "</table>\n",
       "<p>7043 rows × 4 columns</p>\n",
       "</div>"
      ],
      "text/plain": [
       "      tenure  ServiceCount  MonthlyCharges  TotalCharges\n",
       "0          1             2           29.85         29.85\n",
       "1         34             4           56.95       1889.50\n",
       "2          2             4           53.85        108.15\n",
       "3         45             4           42.30       1840.75\n",
       "4          2             2           70.70        151.65\n",
       "...      ...           ...             ...           ...\n",
       "7038      24             8           84.80       1990.50\n",
       "7039      72             7          103.20       7362.90\n",
       "7040      11             2           29.60        346.45\n",
       "7041       4             3           74.40        306.60\n",
       "7042      66             7          105.65       6844.50\n",
       "\n",
       "[7043 rows x 4 columns]"
      ]
     },
     "execution_count": 100,
     "metadata": {},
     "output_type": "execute_result"
    }
   ],
   "source": [
    "ndf = df[['tenure','ServiceCount','MonthlyCharges','TotalCharges']]\n",
    "ndf"
   ]
  },
  {
   "cell_type": "code",
   "execution_count": 101,
   "metadata": {},
   "outputs": [
    {
     "name": "stdout",
     "output_type": "stream",
     "text": [
      "                  tenure  ServiceCount  MonthlyCharges  TotalCharges\n",
      "tenure          1.000000      0.508526        0.247900      0.823701\n",
      "ServiceCount    0.508526      1.000000        0.041463      0.443015\n",
      "MonthlyCharges  0.247900      0.041463        1.000000      0.649299\n",
      "TotalCharges    0.823701      0.443015        0.649299      1.000000\n"
     ]
    },
    {
     "data": {
      "text/plain": [
       "<AxesSubplot:>"
      ]
     },
     "execution_count": 101,
     "metadata": {},
     "output_type": "execute_result"
    },
    {
     "data": {
      "image/png": "[encoded data removed]",
      "text/plain": [
       "<Figure size 432x288 with 2 Axes>"
      ]
     },
     "metadata": {
      "needs_background": "light"
     },
     "output_type": "display_data"
    }
   ],
   "source": [
    "corr = ndf.corr()\n",
    "print(corr)\n",
    "sns.heatmap(corr,annot=True)"
   ]
  },
  {
   "cell_type": "code",
   "execution_count": 102,
   "metadata": {},
   "outputs": [
    {
     "name": "stdout",
     "output_type": "stream",
     "text": [
      "     tenure  ServiceCount  MonthlyCharges  TotalCharges\n",
      "0  0.000000      0.000000        0.000000           0.0\n",
      "1  0.508526      0.000000        0.000000           0.0\n",
      "2  0.247900      0.041463        0.000000           0.0\n",
      "3  0.823701      0.443015        0.649299           0.0\n"
     ]
    }
   ],
   "source": [
    "lower = pd.DataFrame(np.tril(corr, -1),columns = corr.columns)\n",
    "print(lower)"
   ]
  },
  {
   "cell_type": "code",
   "execution_count": 103,
   "metadata": {},
   "outputs": [
    {
     "name": "stdout",
     "output_type": "stream",
     "text": [
      "['tenure', 'MonthlyCharges']\n",
      "['tenure', 'MonthlyCharges']\n",
      "      gender  SeniorCitizen  ServiceCount        Contract PaperlessBilling  \\\n",
      "0     Female              0             2  Month-to-month              Yes   \n",
      "1       Male              0             4        One year               No   \n",
      "2       Male              0             4  Month-to-month              Yes   \n",
      "3       Male              0             4        One year               No   \n",
      "4     Female              0             2  Month-to-month              Yes   \n",
      "...      ...            ...           ...             ...              ...   \n",
      "7038    Male              0             8        One year              Yes   \n",
      "7039  Female              0             7        One year              Yes   \n",
      "7040  Female              0             2  Month-to-month              Yes   \n",
      "7041    Male              1             3  Month-to-month              Yes   \n",
      "7042    Male              0             7        Two year              Yes   \n",
      "\n",
      "      TotalCharges Churn  \n",
      "0            29.85    No  \n",
      "1          1889.50    No  \n",
      "2           108.15   Yes  \n",
      "3          1840.75    No  \n",
      "4           151.65   Yes  \n",
      "...            ...   ...  \n",
      "7038       1990.50    No  \n",
      "7039       7362.90    No  \n",
      "7040        346.45    No  \n",
      "7041        306.60   Yes  \n",
      "7042       6844.50    No  \n",
      "\n",
      "[7043 rows x 7 columns]\n",
      "       SeniorCitizen  ServiceCount  TotalCharges\n",
      "count    7043.000000   7043.000000   7043.000000\n",
      "mean        0.162147      5.446259   2282.589168\n",
      "std         0.368612      1.964916   2261.158811\n",
      "min         0.000000      1.000000     18.800000\n",
      "25%         0.000000      4.000000    403.775000\n",
      "50%         0.000000      6.000000   1406.000000\n",
      "75%         0.000000      7.000000   3778.050000\n",
      "max         1.000000      9.000000   8684.800000\n"
     ]
    }
   ],
   "source": [
    "to_drop = [column for column in lower if any(lower[column] > 0.6)]\n",
    "print(to_drop)\n",
    "df = df.drop(columns = to_drop)\n",
    "print (to_drop)\n",
    "print (df)\n",
    "print (df.describe())"
   ]
  },
  {
   "cell_type": "markdown",
   "metadata": {},
   "source": [
    "2.3"
   ]
  },
  {
   "cell_type": "code",
   "execution_count": 104,
   "metadata": {},
   "outputs": [
    {
     "name": "stdout",
     "output_type": "stream",
     "text": [
      "      gender  SeniorCitizen  ServiceCount  Contract  PaperlessBilling  \\\n",
      "0          0              0             2         0                 1   \n",
      "1          1              0             4         1                 0   \n",
      "2          1              0             4         0                 1   \n",
      "3          1              0             4         1                 0   \n",
      "4          0              0             2         0                 1   \n",
      "...      ...            ...           ...       ...               ...   \n",
      "7038       1              0             8         1                 1   \n",
      "7039       0              0             7         1                 1   \n",
      "7040       0              0             2         0                 1   \n",
      "7041       1              1             3         0                 1   \n",
      "7042       1              0             7         2                 1   \n",
      "\n",
      "      TotalCharges  Churn  \n",
      "0            29.85      0  \n",
      "1          1889.50      0  \n",
      "2           108.15      1  \n",
      "3          1840.75      0  \n",
      "4           151.65      1  \n",
      "...            ...    ...  \n",
      "7038       1990.50      0  \n",
      "7039       7362.90      0  \n",
      "7040        346.45      0  \n",
      "7041        306.60      1  \n",
      "7042       6844.50      0  \n",
      "\n",
      "[7043 rows x 7 columns]\n"
     ]
    }
   ],
   "source": [
    "from sklearn import preprocessing\n",
    "le = preprocessing.LabelEncoder()\n",
    "df['Churn'] = le.fit_transform(df['Churn'].values)\n",
    "df['gender'] = le.fit_transform(df['gender'].values)\n",
    "df['Contract'] = le.fit_transform(df['Contract'].values)\n",
    "df['PaperlessBilling'] = le.fit_transform(df['PaperlessBilling'].values)\n",
    "print(df)\n",
    "\n"
   ]
  },
  {
   "cell_type": "code",
   "execution_count": 105,
   "metadata": {},
   "outputs": [],
   "source": [
    "from sklearn.feature_selection import chi2\n",
    "ddf = df[['Churn','gender','Contract','PaperlessBilling']]\n",
    "Output = df[['Churn']]\n",
    "Variables = df[['gender','Contract','PaperlessBilling']]\n",
    "Chi_table = chi2(Variables,Output)"
   ]
  },
  {
   "cell_type": "code",
   "execution_count": 106,
   "metadata": {},
   "outputs": [
    {
     "name": "stdout",
     "output_type": "stream",
     "text": [
      "[6.11015635e-001 1.22794132e-244 8.66198711e-025]\n",
      "['gender']\n"
     ]
    },
    {
     "data": {
      "text/html": [
       "<div>\n",
       "<style scoped>\n",
       "    .dataframe tbody tr th:only-of-type {\n",
       "        vertical-align: middle;\n",
       "    }\n",
       "\n",
       "    .dataframe tbody tr th {\n",
       "        vertical-align: top;\n",
       "    }\n",
       "\n",
       "    .dataframe thead th {\n",
       "        text-align: right;\n",
       "    }\n",
       "</style>\n",
       "<table border=\"1\" class=\"dataframe\">\n",
       "  <thead>\n",
       "    <tr style=\"text-align: right;\">\n",
       "      <th></th>\n",
       "      <th>SeniorCitizen</th>\n",
       "      <th>ServiceCount</th>\n",
       "      <th>Contract</th>\n",
       "      <th>PaperlessBilling</th>\n",
       "      <th>TotalCharges</th>\n",
       "      <th>Churn</th>\n",
       "    </tr>\n",
       "  </thead>\n",
       "  <tbody>\n",
       "    <tr>\n",
       "      <th>0</th>\n",
       "      <td>0</td>\n",
       "      <td>2</td>\n",
       "      <td>0</td>\n",
       "      <td>1</td>\n",
       "      <td>29.85</td>\n",
       "      <td>0</td>\n",
       "    </tr>\n",
       "    <tr>\n",
       "      <th>1</th>\n",
       "      <td>0</td>\n",
       "      <td>4</td>\n",
       "      <td>1</td>\n",
       "      <td>0</td>\n",
       "      <td>1889.50</td>\n",
       "      <td>0</td>\n",
       "    </tr>\n",
       "    <tr>\n",
       "      <th>2</th>\n",
       "      <td>0</td>\n",
       "      <td>4</td>\n",
       "      <td>0</td>\n",
       "      <td>1</td>\n",
       "      <td>108.15</td>\n",
       "      <td>1</td>\n",
       "    </tr>\n",
       "    <tr>\n",
       "      <th>3</th>\n",
       "      <td>0</td>\n",
       "      <td>4</td>\n",
       "      <td>1</td>\n",
       "      <td>0</td>\n",
       "      <td>1840.75</td>\n",
       "      <td>0</td>\n",
       "    </tr>\n",
       "    <tr>\n",
       "      <th>4</th>\n",
       "      <td>0</td>\n",
       "      <td>2</td>\n",
       "      <td>0</td>\n",
       "      <td>1</td>\n",
       "      <td>151.65</td>\n",
       "      <td>1</td>\n",
       "    </tr>\n",
       "    <tr>\n",
       "      <th>...</th>\n",
       "      <td>...</td>\n",
       "      <td>...</td>\n",
       "      <td>...</td>\n",
       "      <td>...</td>\n",
       "      <td>...</td>\n",
       "      <td>...</td>\n",
       "    </tr>\n",
       "    <tr>\n",
       "      <th>7038</th>\n",
       "      <td>0</td>\n",
       "      <td>8</td>\n",
       "      <td>1</td>\n",
       "      <td>1</td>\n",
       "      <td>1990.50</td>\n",
       "      <td>0</td>\n",
       "    </tr>\n",
       "    <tr>\n",
       "      <th>7039</th>\n",
       "      <td>0</td>\n",
       "      <td>7</td>\n",
       "      <td>1</td>\n",
       "      <td>1</td>\n",
       "      <td>7362.90</td>\n",
       "      <td>0</td>\n",
       "    </tr>\n",
       "    <tr>\n",
       "      <th>7040</th>\n",
       "      <td>0</td>\n",
       "      <td>2</td>\n",
       "      <td>0</td>\n",
       "      <td>1</td>\n",
       "      <td>346.45</td>\n",
       "      <td>0</td>\n",
       "    </tr>\n",
       "    <tr>\n",
       "      <th>7041</th>\n",
       "      <td>1</td>\n",
       "      <td>3</td>\n",
       "      <td>0</td>\n",
       "      <td>1</td>\n",
       "      <td>306.60</td>\n",
       "      <td>1</td>\n",
       "    </tr>\n",
       "    <tr>\n",
       "      <th>7042</th>\n",
       "      <td>0</td>\n",
       "      <td>7</td>\n",
       "      <td>2</td>\n",
       "      <td>1</td>\n",
       "      <td>6844.50</td>\n",
       "      <td>0</td>\n",
       "    </tr>\n",
       "  </tbody>\n",
       "</table>\n",
       "<p>7043 rows × 6 columns</p>\n",
       "</div>"
      ],
      "text/plain": [
       "      SeniorCitizen  ServiceCount  Contract  PaperlessBilling  TotalCharges  \\\n",
       "0                 0             2         0                 1         29.85   \n",
       "1                 0             4         1                 0       1889.50   \n",
       "2                 0             4         0                 1        108.15   \n",
       "3                 0             4         1                 0       1840.75   \n",
       "4                 0             2         0                 1        151.65   \n",
       "...             ...           ...       ...               ...           ...   \n",
       "7038              0             8         1                 1       1990.50   \n",
       "7039              0             7         1                 1       7362.90   \n",
       "7040              0             2         0                 1        346.45   \n",
       "7041              1             3         0                 1        306.60   \n",
       "7042              0             7         2                 1       6844.50   \n",
       "\n",
       "      Churn  \n",
       "0         0  \n",
       "1         0  \n",
       "2         1  \n",
       "3         0  \n",
       "4         1  \n",
       "...     ...  \n",
       "7038      0  \n",
       "7039      0  \n",
       "7040      0  \n",
       "7041      1  \n",
       "7042      0  \n",
       "\n",
       "[7043 rows x 6 columns]"
      ]
     },
     "execution_count": 106,
     "metadata": {},
     "output_type": "execute_result"
    }
   ],
   "source": [
    "p_value = Chi_table[1]\n",
    "# p_value[0]\n",
    "lower = pd.DataFrame(np.tril(p_value, -1),columns = Variables.columns)\n",
    "print(p_value)\n",
    "# print(lower)\n",
    "to_drop= [column for column in lower if any(lower[column] > 0.05)] #5% significant\n",
    "df = df.drop(columns = to_drop)\n",
    "print (to_drop)\n",
    "df\n"
   ]
  },
  {
   "cell_type": "code",
   "execution_count": null,
   "metadata": {},
   "outputs": [],
   "source": []
  }
 ],
 "metadata": {
  "kernelspec": {
   "display_name": "Python 3.9.12 64-bit",
   "language": "python",
   "name": "python3"
  },
  "language_info": {
   "codemirror_mode": {
    "name": "ipython",
    "version": 3
   },
   "file_extension": ".py",
   "mimetype": "text/x-python",
   "name": "python",
   "nbconvert_exporter": "python",
   "pygments_lexer": "ipython3",
   "version": "3.9.12"
  },
  "orig_nbformat": 4,
  "vscode": {
   "interpreter": {
    "hash": "b0fa6594d8f4cbf19f97940f81e996739fb7646882a419484c72d19e05852a7e"
   }
  }
 },
 "nbformat": 4,
 "nbformat_minor": 2
}
